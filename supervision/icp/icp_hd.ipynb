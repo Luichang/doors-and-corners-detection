{
 "cells": [
  {
   "cell_type": "markdown",
   "metadata": {},
   "source": [
    "The Following Part is for testing and figuring out the icp_matching algorithm"
   ]
  },
  {
   "cell_type": "code",
   "execution_count": 1,
   "metadata": {},
   "outputs": [],
   "source": [
    "import math\n",
    "\n",
    "import matplotlib.pyplot as plt\n",
    "import numpy as np\n",
    "\n",
    "#  ICP parameters\n",
    "EPS = 0.0001\n",
    "MAX_ITER = 100\n",
    "\n",
    "show_animation = False\n",
    "\n",
    "def icp_matching(previous_points, current_points):\n",
    "    \"\"\"\n",
    "    Iterative Closest Point matching\n",
    "    - input\n",
    "    previous_points: 2D points in the previous frame\n",
    "    current_points: 2D points in the current frame\n",
    "    - output\n",
    "    R: Rotation matrix\n",
    "    T: Translation vector\n",
    "    \"\"\"\n",
    "    H = None  # homogeneous transformation matrix\n",
    "\n",
    "    dError = np.inf\n",
    "    preError = np.inf\n",
    "    count = 0\n",
    "\n",
    "    while dError >= EPS:\n",
    "        count += 1\n",
    "\n",
    "        if show_animation:  # pragma: no cover\n",
    "            plt.cla()\n",
    "            # for stopping simulation with the esc key.\n",
    "            plt.gcf().canvas.mpl_connect(\n",
    "                'key_release_event',\n",
    "                lambda event: [exit(0) if event.key == 'escape' else None])\n",
    "            print(previous_points)\n",
    "            plt.plot(previous_points[0, :], previous_points[1, :], \".r\")\n",
    "            plt.plot(current_points[0, :], current_points[1, :], \".b\")\n",
    "            plt.plot(0.0, 0.0, \"xr\")\n",
    "            plt.axis(\"equal\")\n",
    "            plt.pause(0.1)\n",
    "\n",
    "        indexes, error = nearest_neighbor_association(previous_points, current_points)\n",
    "        Rt, Tt = svd_motion_estimation(previous_points[:, indexes], current_points)\n",
    "        # update current points\n",
    "        current_points = (Rt @ current_points) + Tt[:, np.newaxis]\n",
    "\n",
    "        dError = preError - error\n",
    "        print(\"Residual:\", error)\n",
    "\n",
    "        if dError < 0:  # prevent matrix H changing, exit loop\n",
    "            print(\"Not Converge...\", preError, dError, count)\n",
    "            break\n",
    "\n",
    "        preError = error\n",
    "        H = update_homogeneous_matrix(H, Rt, Tt)\n",
    "\n",
    "        if dError <= EPS:\n",
    "            print(\"Converge\", error, dError, count)\n",
    "            break\n",
    "        elif MAX_ITER <= count:\n",
    "            print(\"Not Converge...\", error, dError, count)\n",
    "            break\n",
    "\n",
    "    R = np.array(H[0:2, 0:2])\n",
    "    T = np.array(H[0:2, 2])\n",
    "\n",
    "    return R, T\n",
    "\n",
    "def nearest_neighbor_association(previous_points, current_points):\n",
    "\n",
    "    # calc the sum of residual errors\n",
    "    delta_points = previous_points - current_points\n",
    "    d = np.linalg.norm(delta_points, axis=0)\n",
    "    error = sum(d)\n",
    "\n",
    "    # calc index with nearest neighbor assosiation\n",
    "    d = np.linalg.norm(np.repeat(current_points, previous_points.shape[1], axis=1)\n",
    "                       - np.tile(previous_points, (1, current_points.shape[1])), axis=0)\n",
    "    indexes = np.argmin(d.reshape(current_points.shape[1], previous_points.shape[1]), axis=1)\n",
    "\n",
    "    return indexes, error\n",
    "\n",
    "def svd_motion_estimation(previous_points, current_points):\n",
    "    pm = np.mean(previous_points, axis=1)\n",
    "    cm = np.mean(current_points, axis=1)\n",
    "\n",
    "    p_shift = previous_points - pm[:, np.newaxis]\n",
    "    c_shift = current_points - cm[:, np.newaxis]\n",
    "\n",
    "    W = c_shift @ p_shift.T\n",
    "    u, s, vh = np.linalg.svd(W)\n",
    "\n",
    "    R = (u @ vh).T\n",
    "    t = pm - (R @ cm)\n",
    "\n",
    "    return R, t\n",
    "\n",
    "def update_homogeneous_matrix(Hin, R, T):\n",
    "\n",
    "    H = np.zeros((3, 3))\n",
    "\n",
    "    H[0, 0] = R[0, 0]\n",
    "    H[1, 0] = R[1, 0]\n",
    "    H[0, 1] = R[0, 1]\n",
    "    H[1, 1] = R[1, 1]\n",
    "    H[2, 2] = 1.0\n",
    "\n",
    "    H[0, 2] = T[0]\n",
    "    H[1, 2] = T[1]\n",
    "\n",
    "    if Hin is None:\n",
    "        return H\n",
    "    else:\n",
    "        return Hin @ H"
   ]
  },
  {
   "cell_type": "markdown",
   "metadata": {},
   "source": [
    "Example Dataset taken from collected Data. Each entry in the following two lists reprisents a list of corners"
   ]
  },
  {
   "cell_type": "code",
   "execution_count": 76,
   "metadata": {},
   "outputs": [],
   "source": [
    "a = [[-6.92815248148497e-05, -0.8820000263660182, 0.1], [0.037618182586186724, -0.8091260549264384, 0.1], [6.00664109084529, -0.8099308697470523, 0.1], [6.028639569155887, -0.9562018944154599, 0.1], [6.4145250457582454, 1.206483739886647, 0.1], [6.418810622560391, 0.6730470247167204, 0.1], [6.072963828554314, 2.369911021616298, 0.1], [6.083178649634356, 1.5150264568048768, 0.1], [-0.27463504424923507, 1.4614188013584368, 0.1], [3.7147096641198076, 1.4996561097437668, 0.1], [-0.22824266651659975, 0.6394891026266802, 0.1]]\n",
    "b = [[-0.02571941021713099, -0.8816249561166412, 0.1], [0.009348445836983195, -0.8089460002059186, 0.1], [5.996730550954318, -0.8085945401624879, 0.1], [5.9624668437079595, -0.9457062453214801, 0.1], [6.395852407415333, 1.2029716740079106, 0.1], [6.147278188727962, 1.4930671696706423, 0.1], [-0.24965077618880974, 0.6400340145192047, 0.1]]\n",
    "a = np.array(a)[:,:-1]\n",
    "b = np.array(b)[:,:-1]"
   ]
  },
  {
   "cell_type": "markdown",
   "metadata": {},
   "source": [
    "# <span style=\"color:red\">hd</span>\n",
    "Rotation Matrix $R = \n",
    "\\begin{bmatrix}\n",
    "\\cos(\\theta) & -\\sin(\\theta)  \\\\\n",
    "\\sin(\\theta) & \\cos(\\theta) \n",
    "\\end{bmatrix}$"
   ]
  },
  {
   "cell_type": "code",
   "execution_count": 32,
   "metadata": {
    "scrolled": true
   },
   "outputs": [
    {
     "name": "stdout",
     "output_type": "stream",
     "text": [
      "[[ True  True  True  True  True  True  True]\n",
      " [ True  True  True  True  True  True  True]] (11, 2)\n"
     ]
    }
   ],
   "source": [
    "print(a[:7].T == c, a.shape)"
   ]
  },
  {
   "cell_type": "code",
   "execution_count": 31,
   "metadata": {
    "scrolled": true
   },
   "outputs": [
    {
     "name": "stdout",
     "output_type": "stream",
     "text": [
      "[[-8.82000026e-01 -8.09126055e-01 -8.09930870e-01 -9.56201894e-01\n",
      "   1.20648374e+00  6.73047025e-01  2.36991102e+00]\n",
      " [-6.92815248e-05  3.76181826e-02  6.00664109e+00  6.02863957e+00\n",
      "   6.41452505e+00  6.41881062e+00  6.07296383e+00]] (2, 7)\n"
     ]
    }
   ],
   "source": [
    "print(c, c.shape)"
   ]
  },
  {
   "cell_type": "code",
   "execution_count": 38,
   "metadata": {},
   "outputs": [
    {
     "name": "stdout",
     "output_type": "stream",
     "text": [
      "[[-6.92815248e-05  3.76181826e-02  6.00664109e+00  6.02863957e+00\n",
      "   6.41452505e+00  6.08317865e+00 -2.28242667e-01]\n",
      " [-8.82000026e-01 -8.09126055e-01 -8.09930870e-01 -9.56201894e-01\n",
      "   1.20648374e+00  1.51502646e+00  6.39489103e-01]] (2, 7)\n"
     ]
    }
   ],
   "source": [
    "print(c, c.shape)"
   ]
  },
  {
   "cell_type": "code",
   "execution_count": null,
   "metadata": {},
   "outputs": [],
   "source": []
  },
  {
   "cell_type": "code",
   "execution_count": 42,
   "metadata": {
    "scrolled": true
   },
   "outputs": [
    {
     "data": {
      "image/png": "[encoded data removed]",
      "text/plain": [
       "<Figure size 432x288 with 1 Axes>"
      ]
     },
     "metadata": {
      "needs_background": "light"
     },
     "output_type": "display_data"
    },
    {
     "name": "stdout",
     "output_type": "stream",
     "text": [
      "possible pair: (0,0) with distance: 0.025652870787191584\n",
      "possible pair: (1,1) with distance: 0.028270310142827406\n",
      "possible pair: (2,2) with distance: 0.0100002288818367\n",
      "possible pair: (3,3) with distance: 0.06699991226196299\n",
      "possible pair: (4,4) with distance: 0.019000053405761372\n",
      "possible pair: (7,5) with distance: 0.06775663217321581\n",
      "possible pair: (10,6) with distance: 0.02141504351403437\n"
     ]
    },
    {
     "data": {
      "image/png": "[encoded data removed]",
      "text/plain": [
       "<Figure size 432x288 with 1 Axes>"
      ]
     },
     "metadata": {
      "needs_background": "light"
     },
     "output_type": "display_data"
    },
    {
     "name": "stdout",
     "output_type": "stream",
     "text": [
      "##### ICP output start #####\n",
      "[[-8.82000026e-01 -8.09126055e-01 -8.09930870e-01 -9.56201894e-01\n",
      "   1.20648374e+00  6.73047025e-01  2.36991102e+00]\n",
      " [-6.92815248e-05  3.76181826e-02  6.00664109e+00  6.02863957e+00\n",
      "   6.41452505e+00  6.41881062e+00  6.07296383e+00]]\n"
     ]
    },
    {
     "data": {
      "image/png": "[encoded data removed]",
      "text/plain": [
       "<Figure size 432x288 with 1 Axes>"
      ]
     },
     "metadata": {
      "needs_background": "light"
     },
     "output_type": "display_data"
    },
    {
     "name": "stdout",
     "output_type": "stream",
     "text": [
      "Residual: 7.568723334178836\n",
      "[[-8.82000026e-01 -8.09126055e-01 -8.09930870e-01 -9.56201894e-01\n",
      "   1.20648374e+00  6.73047025e-01  2.36991102e+00]\n",
      " [-6.92815248e-05  3.76181826e-02  6.00664109e+00  6.02863957e+00\n",
      "   6.41452505e+00  6.41881062e+00  6.07296383e+00]]\n"
     ]
    },
    {
     "data": {
      "image/png": "[encoded data removed]",
      "text/plain": [
       "<Figure size 432x288 with 1 Axes>"
      ]
     },
     "metadata": {
      "needs_background": "light"
     },
     "output_type": "display_data"
    },
    {
     "name": "stdout",
     "output_type": "stream",
     "text": [
      "Residual: 8.69991438758234\n",
      "Not Converge... 7.568723334178836 -1.1311910534035032 2\n",
      "##### ICP output end #####\n",
      "R\n",
      "[[ 0.99837812  0.05693089]\n",
      " [-0.05693089  0.99837812]]\n",
      "T: [-0.44636994  0.10518656]\n",
      "thetas: 0.05696169131075556 0.05696169131075641 0.0569616913107563 0.05696169131075751\n"
     ]
    },
    {
     "data": {
      "text/plain": [
       "array([[ 0.99837812, -0.05693089],\n",
       "       [ 0.05693089,  0.99837812]])"
      ]
     },
     "execution_count": 42,
     "metadata": {},
     "output_type": "execute_result"
    }
   ],
   "source": [
    "a = [[-6.92815248148497e-05, -0.8820000263660182, 0.1], [0.037618182586186724, -0.8091260549264384, 0.1], [6.00664109084529, -0.8099308697470523, 0.1], [6.028639569155887, -0.9562018944154599, 0.1], [6.4145250457582454, 1.206483739886647, 0.1], [6.418810622560391, 0.6730470247167204, 0.1], [6.072963828554314, 2.369911021616298, 0.1], [6.083178649634356, 1.5150264568048768, 0.1], [-0.27463504424923507, 1.4614188013584368, 0.1], [3.7147096641198076, 1.4996561097437668, 0.1], [-0.22824266651659975, 0.6394891026266802, 0.1]]\n",
    "b = [[-0.02571941021713099, -0.8816249561166412, 0.1], [0.009348445836983195, -0.8089460002059186, 0.1], [5.996730550954318, -0.8085945401624879, 0.1], [5.9624668437079595, -0.9457062453214801, 0.1], [6.395852407415333, 1.2029716740079106, 0.1], [6.147278188727962, 1.4930671696706423, 0.1], [-0.24965077618880974, 0.6400340145192047, 0.1]]\n",
    "a = np.array(a)[:,:-1]\n",
    "b = np.array(b)[:,:-1]\n",
    "\n",
    "plt.plot(a[:,0],a[:,1], 'bo')\n",
    "plt.plot(b[:,0],b[:,1], 'ro')\n",
    "plt.title('Show All Points')\n",
    "plt.xlim([-1, 7])\n",
    "plt.ylim([-2, 2.5])\n",
    "plt.show()\n",
    "\n",
    "# Idea: \n",
    "# 1) check, if a near point in first array exists in second array\n",
    "# 2) keep only the corresponding pairs (TODO: delete doubles)\n",
    "# 3) cut down the arrays to same size (TODO: only corresponding points left)\n",
    "# 4) use icp as in PythonRobotics example\n",
    "\n",
    "\n",
    "\n",
    "# 1)\n",
    "from scipy.spatial import distance\n",
    "dist = distance.cdist(a, b, 'euclidean') # Compute distance between each pair of the two collections of inputs.\n",
    "min_row_index = np.argmin(dist, axis=0) # or axis=1 ?\n",
    "\n",
    "min_row_index = np.argmin(dist, axis=0)\n",
    "c = [[],[]]\n",
    "d = [[],[]]\n",
    "for i in range(len(min_row_index)):\n",
    "    row_index = min_row_index[i]\n",
    "    col_index = np.argmin(dist[row_index,:])\n",
    "    # 2) TODO: save the pairs (not only print them)\n",
    "    if dist[row_index,col_index] < 0.1: \n",
    "        print(f\"possible pair: ({row_index},{col_index}) with distance: {dist[row_index,col_index]}\")\n",
    "#         c[0].append(a[row_index,0])\n",
    "#         c[1].append(a[row_index,1])\n",
    "#         d[0].append(b[col_index,0])\n",
    "#         d[1].append(b[col_index,1])\n",
    "        plt.plot(a[row_index,0],a[row_index,1], 'bo')\n",
    "        plt.plot(b[col_index,0],b[col_index,1], 'ro')\n",
    "plt.xlim([-1, 7])\n",
    "plt.ylim([-2, 2.5])\n",
    "plt.title('Show Correspondig Pairs Only')\n",
    "plt.show()\n",
    "\n",
    "# c = np.array(c)\n",
    "# d = np.array(d)\n",
    "\n",
    "# icp: shape of current_points and previous_points: (2, 1000)\n",
    "c = a.T #reshape(2,-1)\n",
    "d = b.T #reshape(2,-1)\n",
    "\n",
    "# 3) here, we are cutting randomly -> not good\n",
    "# (because maybe points with good correlation are thrown away)\n",
    "# keep all corresponding point candidates found\n",
    "min_length = min(c.shape[1], d.shape[1])\n",
    "\n",
    "c = c[:,:min_length]\n",
    "d = d[:,:min_length]\n",
    "\n",
    "# x and y are interchanged (compared to icp_matching)\n",
    "c[[0, 1],:] = c[[1, 0],:]\n",
    "d[[0, 1],:] = d[[1, 0],:]\n",
    "\n",
    "# 4) use ICP\n",
    "# parameters\n",
    "EPS = 0.0001\n",
    "MAX_ITER = 100\n",
    "show_animation = True\n",
    "\n",
    "print('##### ICP output start #####')\n",
    "R, T = icp_matching(c, d)\n",
    "print('##### ICP output end #####')\n",
    "\n",
    "print(f'R')\n",
    "print(R)\n",
    "print(f'T: {T}')\n",
    "\n",
    "theta1 = math.acos(R[0,0])\n",
    "theta2 = math.asin(R[0,1])\n",
    "theta3 = -math.asin(R[1,0])\n",
    "theta4 = math.acos(R[1,1])\n",
    "\n",
    "print(f'thetas: {theta1} {theta2} {theta3} {theta4}')\n",
    "\n",
    "#theta = 1.55617482041056 # assumed angle from above print-out (last cell)\n",
    "np.array([[math.cos(theta1),-math.sin(theta2)],[math.sin(theta3),math.cos(theta4)]])\n",
    "\n",
    "# idea: if not converged, leave out (?)"
   ]
  },
  {
   "cell_type": "code",
   "execution_count": null,
   "metadata": {},
   "outputs": [],
   "source": []
  },
  {
   "cell_type": "code",
   "execution_count": 2,
   "metadata": {},
   "outputs": [
    {
     "data": {
      "image/png": "[encoded data removed]",
      "text/plain": [
       "<Figure size 432x288 with 1 Axes>"
      ]
     },
     "metadata": {
      "needs_background": "light"
     },
     "output_type": "display_data"
    },
    {
     "name": "stdout",
     "output_type": "stream",
     "text": [
      "possible pair: (0,0) with distance: 0.025652870787191584\n",
      "possible pair: (1,1) with distance: 0.028270310142827406\n",
      "possible pair: (2,2) with distance: 0.0100002288818367\n",
      "possible pair: (3,3) with distance: 0.06699991226196299\n",
      "possible pair: (4,4) with distance: 0.019000053405761372\n",
      "possible pair: (7,5) with distance: 0.06775663217321581\n",
      "possible pair: (10,6) with distance: 0.02141504351403437\n"
     ]
    },
    {
     "data": {
      "image/png": "[encoded data removed]",
      "text/plain": [
       "<Figure size 432x288 with 1 Axes>"
      ]
     },
     "metadata": {
      "needs_background": "light"
     },
     "output_type": "display_data"
    },
    {
     "name": "stdout",
     "output_type": "stream",
     "text": [
      "##### ICP output start #####\n",
      "[[-6.92815248e-05  3.76181826e-02  6.00664109e+00  6.02863957e+00\n",
      "   6.41452505e+00  6.08317865e+00 -2.28242667e-01]\n",
      " [-8.82000026e-01 -8.09126055e-01 -8.09930870e-01 -9.56201894e-01\n",
      "   1.20648374e+00  1.51502646e+00  6.39489103e-01]]\n"
     ]
    },
    {
     "data": {
      "image/png": "[encoded data removed]",
      "text/plain": [
       "<Figure size 432x288 with 1 Axes>"
      ]
     },
     "metadata": {
      "needs_background": "light"
     },
     "output_type": "display_data"
    },
    {
     "name": "stdout",
     "output_type": "stream",
     "text": [
      "Residual: 0.23909505116683025\n",
      "[[-6.92815248e-05  3.76181826e-02  6.00664109e+00  6.02863957e+00\n",
      "   6.41452505e+00  6.08317865e+00 -2.28242667e-01]\n",
      " [-8.82000026e-01 -8.09126055e-01 -8.09930870e-01 -9.56201894e-01\n",
      "   1.20648374e+00  1.51502646e+00  6.39489103e-01]]\n"
     ]
    },
    {
     "data": {
      "image/png": "[encoded data removed]",
      "text/plain": [
       "<Figure size 432x288 with 1 Axes>"
      ]
     },
     "metadata": {
      "needs_background": "light"
     },
     "output_type": "display_data"
    },
    {
     "name": "stdout",
     "output_type": "stream",
     "text": [
      "Residual: 0.18787697373707057\n",
      "[[-6.92815248e-05  3.76181826e-02  6.00664109e+00  6.02863957e+00\n",
      "   6.41452505e+00  6.08317865e+00 -2.28242667e-01]\n",
      " [-8.82000026e-01 -8.09126055e-01 -8.09930870e-01 -9.56201894e-01\n",
      "   1.20648374e+00  1.51502646e+00  6.39489103e-01]]\n"
     ]
    },
    {
     "data": {
      "image/png": "[encoded data removed]",
      "text/plain": [
       "<Figure size 432x288 with 1 Axes>"
      ]
     },
     "metadata": {
      "needs_background": "light"
     },
     "output_type": "display_data"
    },
    {
     "name": "stdout",
     "output_type": "stream",
     "text": [
      "Residual: 0.18787697373706858\n",
      "Converge 0.18787697373706858 1.9984014443252818e-15 3\n",
      "##### ICP output end #####\n",
      "R\n",
      "[[ 0.99999559 -0.00296899]\n",
      " [ 0.00296899  0.99999559]]\n",
      "T: [ 0.01510973 -0.00848837]\n",
      "thetas: 0.0029689972966911475 -0.0029689972965297024 -0.0029689972965296746 0.0029689972966163596\n"
     ]
    },
    {
     "data": {
      "text/plain": [
       "array([[ 0.99999559,  0.00296899],\n",
       "       [-0.00296899,  0.99999559]])"
      ]
     },
     "execution_count": 2,
     "metadata": {},
     "output_type": "execute_result"
    }
   ],
   "source": [
    "a = [[-6.92815248148497e-05, -0.8820000263660182, 0.1], [0.037618182586186724, -0.8091260549264384, 0.1], [6.00664109084529, -0.8099308697470523, 0.1], [6.028639569155887, -0.9562018944154599, 0.1], [6.4145250457582454, 1.206483739886647, 0.1], [6.418810622560391, 0.6730470247167204, 0.1], [6.072963828554314, 2.369911021616298, 0.1], [6.083178649634356, 1.5150264568048768, 0.1], [-0.27463504424923507, 1.4614188013584368, 0.1], [3.7147096641198076, 1.4996561097437668, 0.1], [-0.22824266651659975, 0.6394891026266802, 0.1]]\n",
    "b = [[-0.02571941021713099, -0.8816249561166412, 0.1], [0.009348445836983195, -0.8089460002059186, 0.1], [5.996730550954318, -0.8085945401624879, 0.1], [5.9624668437079595, -0.9457062453214801, 0.1], [6.395852407415333, 1.2029716740079106, 0.1], [6.147278188727962, 1.4930671696706423, 0.1], [-0.24965077618880974, 0.6400340145192047, 0.1]]\n",
    "a = np.array(a)[:,:-1]\n",
    "b = np.array(b)[:,:-1]\n",
    "\n",
    "plt.plot(a[:,0],a[:,1], 'bo')\n",
    "plt.plot(b[:,0],b[:,1], 'ro')\n",
    "plt.title('Show All Points')\n",
    "plt.xlim([-1, 7])\n",
    "plt.ylim([-2, 2.5])\n",
    "plt.show()\n",
    "\n",
    "# Idea: \n",
    "# 1) check, if a near point in first array exists in second array\n",
    "# 2) keep only the corresponding pairs (TODO: delete doubles)\n",
    "# 3) cut down the arrays to same size (TODO: only corresponding points left)\n",
    "# 4) use icp as in PythonRobotics example\n",
    "\n",
    "\n",
    "\n",
    "# 1)\n",
    "from scipy.spatial import distance\n",
    "dist = distance.cdist(a, b, 'euclidean') # Compute distance between each pair of the two collections of inputs.\n",
    "min_row_index = np.argmin(dist, axis=0) # or axis=1 ?\n",
    "\n",
    "min_row_index = np.argmin(dist, axis=0)\n",
    "c = [[],[]]\n",
    "d = [[],[]]\n",
    "for i in range(len(min_row_index)):\n",
    "    row_index = min_row_index[i]\n",
    "    col_index = np.argmin(dist[row_index,:])\n",
    "    # 2) TODO: save the pairs (not only print them)\n",
    "    if dist[row_index,col_index] < 0.1: \n",
    "        print(f\"possible pair: ({row_index},{col_index}) with distance: {dist[row_index,col_index]}\")\n",
    "        c[0].append(a[row_index,0])\n",
    "        c[1].append(a[row_index,1])\n",
    "        d[0].append(b[col_index,0])\n",
    "        d[1].append(b[col_index,1])\n",
    "        plt.plot(a[row_index,0],a[row_index,1], 'bo')\n",
    "        plt.plot(b[col_index,0],b[col_index,1], 'ro')\n",
    "plt.xlim([-1, 7])\n",
    "plt.ylim([-2, 2.5])\n",
    "plt.title('Show Correspondig Pairs Only')\n",
    "plt.show()\n",
    "\n",
    "c = np.array(c)\n",
    "d = np.array(d)\n",
    "\n",
    "# icp: shape of current_points and previous_points: (2, 1000)\n",
    "# c = a.T #reshape(2,-1)\n",
    "# d = b.T #reshape(2,-1)\n",
    "\n",
    "# # 3) here, we are cutting randomly -> not good\n",
    "# # (because maybe points with good correlation are thrown away)\n",
    "# # keep all corresponding point candidates found\n",
    "# min_length = min(c.shape[1], d.shape[1])\n",
    "\n",
    "# c = c[:,:min_length]\n",
    "# d = d[:,:min_length]\n",
    "\n",
    "# # x and y are interchanged (compared to icp_matching)\n",
    "# c[[0, 1],:] = c[[1, 0],:]\n",
    "# d[[0, 1],:] = d[[1, 0],:]\n",
    "\n",
    "# 4) use ICP\n",
    "# parameters\n",
    "EPS = 0.0001\n",
    "MAX_ITER = 100\n",
    "show_animation = True\n",
    "\n",
    "print('##### ICP output start #####')\n",
    "R, T = icp_matching(c, d)\n",
    "print('##### ICP output end #####')\n",
    "\n",
    "print(f'R')\n",
    "print(R)\n",
    "print(f'T: {T}')\n",
    "\n",
    "theta1 = math.acos(R[0,0])\n",
    "theta2 = math.asin(R[0,1])\n",
    "theta3 = -math.asin(R[1,0])\n",
    "theta4 = math.acos(R[1,1])\n",
    "\n",
    "print(f'thetas: {theta1} {theta2} {theta3} {theta4}')\n",
    "\n",
    "#theta = 1.55617482041056 # assumed angle from above print-out (last cell)\n",
    "np.array([[math.cos(theta1),-math.sin(theta2)],[math.sin(theta3),math.cos(theta4)]])\n",
    "\n",
    "# idea: if not converged, leave out (?)"
   ]
  },
  {
   "cell_type": "code",
   "execution_count": 3,
   "metadata": {},
   "outputs": [
    {
     "data": {
      "text/plain": [
       "(2, 7)"
      ]
     },
     "execution_count": 3,
     "metadata": {},
     "output_type": "execute_result"
    }
   ],
   "source": [
    "c.shape"
   ]
  },
  {
   "cell_type": "markdown",
   "metadata": {},
   "source": [
    "If we just tried to apply the icp_matching algorithm on both these datasets we would receive an error, as they do not contain the same amount of corners\n",
    "\n",
    "For Testing and simplicity I have not tried to take every combination of 7 elements from the first list but instead am taking the consecutive points"
   ]
  },
  {
   "cell_type": "code",
   "execution_count": 6,
   "metadata": {},
   "outputs": [
    {
     "name": "stdout",
     "output_type": "stream",
     "text": [
      "0 to 7\n",
      "Residual: 8.243366257977533\n",
      "Residual: 1.0256938981898687\n",
      "Residual: 1.0256938981898671\n",
      "Converge 1.0256938981898671 1.5543122344752192e-15 3\n",
      "(array([[-0.01777107, -0.14754613],\n",
      "       [-0.00663792, -0.00999718]]), array([-0.82183689, -1.28795132]))\n",
      "-------------------------------------------------------------------\n",
      "1 to 8\n",
      "Residual: 11.278737594148692\n",
      "Residual: 1.773366139870849\n",
      "Residual: 1.7733661398708502\n",
      "Not Converge... 1.773366139870849 -1.3322676295501878e-15 3\n",
      "(array([[-0.16036174,  0.09595506],\n",
      "       [-0.07841004,  0.07102462]]), array([-1.2358503 ,  1.12242401]))\n",
      "-------------------------------------------------------------------\n",
      "2 to 9\n",
      "Residual: 11.507747795901116\n",
      "Residual: 1.8562841698247066\n",
      "Residual: 1.8562841698247103\n",
      "Not Converge... 1.8562841698247066 -3.774758283725532e-15 3\n",
      "(array([[-0.66513796, -0.16492036],\n",
      "       [ 0.20633353,  0.30366114]]), array([-1.49070661,  1.44905451]))\n",
      "-------------------------------------------------------------------\n",
      "3 to 10\n",
      "Residual: 15.869436619740014\n",
      "Residual: 15.970019421076241\n",
      "Not Converge... 15.869436619740014 -0.10058280133622688 2\n",
      "(array([[1., 0.],\n",
      "       [0., 1.]]), array([-0.50252971,  1.60628252]))\n",
      "-------------------------------------------------------------------\n",
      "4 to 11\n",
      "Residual: 16.305188850899615\n",
      "Residual: 14.480799626108778\n",
      "Residual: 14.480799626108778\n",
      "Converge 14.480799626108778 0.0 3\n",
      "(array([[1., 0.],\n",
      "       [0., 1.]]), array([1.66015592, 1.0728458 ]))\n",
      "-------------------------------------------------------------------\n"
     ]
    }
   ],
   "source": [
    "len_a = len(a)\n",
    "len_b = len(b)\n",
    "for i in range(max(len_a, len_b) - min((len_a, len_b)) + 1):\n",
    "    print(i, \"to\", i+len_b)\n",
    "    print(icp_matching(a[i:i+len_b], b))\n",
    "    print(\"-------------------------------------------------------------------\")"
   ]
  },
  {
   "cell_type": "markdown",
   "metadata": {},
   "source": [
    "In an attempt to manually do what this algorithm does I have put together the following"
   ]
  },
  {
   "cell_type": "code",
   "execution_count": 7,
   "metadata": {},
   "outputs": [],
   "source": [
    "import itertools\n",
    "import numpy as np\n",
    "import matplotlib.pyplot as plt\n",
    "from itertools import product\n",
    "from scipy.spatial import distance\n",
    "import time\n",
    "import math\n",
    "from scipy.spatial.transform import Rotation as R\n",
    "\n",
    "\n",
    "def getTriangles(set_X, X_combs):\n",
    "    \"\"\"\n",
    "    Inefficient way of obtaining the lengths of each triangle's side.\n",
    "    Normalized so that the minimum length is 1.\n",
    "    \"\"\"\n",
    "    triang = []\n",
    "    for p0, p1, p2 in X_combs:\n",
    "        d1 = np.sqrt((set_X[p0][0] - set_X[p1][0]) ** 2 +\n",
    "                     (set_X[p0][1] - set_X[p1][1]) ** 2)\n",
    "        d2 = np.sqrt((set_X[p0][0] - set_X[p2][0]) ** 2 +\n",
    "                     (set_X[p0][1] - set_X[p2][1]) ** 2)\n",
    "        d3 = np.sqrt((set_X[p1][0] - set_X[p2][0]) ** 2 +\n",
    "                     (set_X[p1][1] - set_X[p2][1]) ** 2)\n",
    "        d_min = min(d1, d2, d3)\n",
    "        d_unsort = [d1 / d_min, d2 / d_min, d3 / d_min]\n",
    "        triang.append(sorted(d_unsort))\n",
    "\n",
    "    return triang\n",
    "\n",
    "\n",
    "def sumTriangles(A_triang, B_triang):\n",
    "    \"\"\"\n",
    "    For each normalized triangle in A, compare with each normalized triangle\n",
    "    in B. find the differences between their sides, sum their absolute values,\n",
    "    and select the two triangles with the smallest sum of absolute differences.\n",
    "    \"\"\"\n",
    "    tr_sum, tr_idx = [], []\n",
    "    for i, A_tr in enumerate(A_triang):\n",
    "        for j, B_tr in enumerate(B_triang):\n",
    "            # Absolute value of lengths differences.\n",
    "            tr_diff = abs(np.array(A_tr) - np.array(B_tr))\n",
    "            # Sum the differences\n",
    "            tr_sum.append(sum(tr_diff))\n",
    "            tr_idx.append([i, j])\n",
    "\n",
    "    # Index of the triangles in A and B with the smallest sum of absolute\n",
    "    # length differences.\n",
    "    tr_idx_min = tr_idx[tr_sum.index(min(tr_sum))]\n",
    "    A_idx, B_idx = tr_idx_min[0], tr_idx_min[1]\n",
    "    print(\"Smallest difference: {}\".format(min(tr_sum)))\n",
    "\n",
    "    return A_idx, B_idx"
   ]
  },
  {
   "cell_type": "code",
   "execution_count": 8,
   "metadata": {},
   "outputs": [],
   "source": [
    "corners = [[[-6.92815248148497e-05, -0.8820000263660182, 0.1], [0.037618182586186724, -0.8091260549264384, 0.1], [6.00664109084529, -0.8099308697470523, 0.1], [6.028639569155887, -0.9562018944154599, 0.1], [6.4145250457582454, 1.206483739886647, 0.1], [6.418810622560391, 0.6730470247167204, 0.1], [6.072963828554314, 2.369911021616298, 0.1], [6.083178649634356, 1.5150264568048768, 0.1], [-0.27463504424923507, 1.4614188013584368, 0.1], [3.7147096641198076, 1.4996561097437668, 0.1], [-0.22824266651659975, 0.6394891026266802, 0.1]],\n",
    "[[-0.02571941021713099, -0.8816249561166412, 0.1], [0.009348445836983195, -0.8089460002059186, 0.1], [5.996730550954318, -0.8085945401624879, 0.1], [5.9624668437079595, -0.9457062453214801, 0.1], [6.395852407415333, 1.2029716740079106, 0.1], [6.147278188727962, 1.4930671696706423, 0.1], [-0.24965077618880974, 0.6400340145192047, 0.1]],\n",
    "[[6.008623009799263, -0.8101981101760845, 0.1], [5.936787819390843, -0.941633297948014, 0.1], [6.370300425327152, 1.1981656983992175, 0.1], [6.413660696568355, 0.6348099573963072, 0.1], [6.03942675092962, 2.356823525602925, 0.1], [-0.3214966441203805, 1.4733309053692327, 0.1], [3.680400119314488, 1.485805089572042, 0.1], [-0.2712811981271311, 0.639868411824738, 0.1]],\n",
    "[[5.941423630592916, -0.8363557639415277, 0.1], [5.933183528004145, -0.9764773909778138, 0.1], [6.346713836131863, 1.1937293861016578, 0.1], [6.38181623531953, 0.631658063018812, 0.1], [6.021726700662943, 2.3499162649317964, 0.1], [6.070510098772212, 1.4744215331348782, 0.1], [-0.29311050883865075, 0.6389798450237497, 0.1]],\n",
    "[[3.4482975201666655, -0.8180350034789711, 0.1], [5.932511197436346, -0.8351011883878068, 0.1], [5.892727403325797, -0.9698191625767323, 0.1], [6.3064204701066995, 1.1861507593774847, 0.1], [6.345991512988657, 0.6281122111983743, 0.1], [6.002163627487607, 2.342281978931784, 0.1], [6.0403857766704885, 1.4671048581841428, 0.1], [-0.36879663082772496, 1.481795619410512, 0.1], [3.648872453394176, 1.4730771347388454, 0.1], [-0.3114018957071664, 0.6391790792002606, 0.1]],\n",
    "[[5.9572672216994365, -0.838586017087464, 0.1], [5.9047300030035865, -1.0071080190992863, 0.1], [6.316165048399948, 1.149982635079829, 0.1], [5.98912157870405, 2.3371924549317753, 0.1], [6.007346421800322, 1.4590801723721036, 0.1], [-0.38917207671250786, 1.4548474906655424, 0.1], [3.6331086204340197, 1.466713157322247, 0.1], [-0.3321532228996707, 0.6433119691742093, 0.1]],\n",
    "[[3.3463737761281247, -0.8350954312688669, 0.1], [5.881050730389431, -0.8627752945754508, 0.1], [5.8416409428381915, -0.9963475781684246, 0.1], [6.294521030742562, 1.1460419140460016, 0.1], [6.319666948253436, 0.5884048034420385, 0.1], [5.971421528437373, 2.330285194260647, 0.1], [-0.41523921164093563, 1.4829621191344562, 0.1], [3.608999150818843, 1.4569799838900646, 0.1], [-0.3563579588029059, 0.6348173520467673, 0.1]],\n",
    "[[5.883029406107707, -0.8630655747658398, 0.1], [5.870213464604731, -1.0363976821262786, 0.1], [6.269925278921701, 1.1415637714905138, 0.1], [6.285813448041026, 0.5852528078857199, 0.1], [5.953721478170697, 2.3233779335895184, 0.1], [-0.43360826757525545, 1.45057921067471, 0.1], [3.593235317858687, 1.4506160064734661, 0.1], [-0.3724281236794768, 0.6371352641116699, 0.1]],\n",
    "[[5.911722562958953, -0.8672749835925164, 0.1], [5.807139333395792, -0.9904629996146893, 0.1], [6.237459017873149, 1.1356526472330404, 0.1], [6.2599253935050045, 0.5828424505416554, 0.1], [5.933226893541031, 2.315380134925064, 0.1], [5.9816739558613445, 1.4160471501320213, 0.1], [-0.3950202168422116, 0.6410679058282905, 0.1]],\n",
    "[[5.816619480038655, -0.8879174347044747, 0.1], [5.774690669708549, -1.0195329456362754, 0.1], [6.198106002609749, 1.128487653309646, 0.1], [6.239015920560605, 0.5808956336573691, 0.1], [5.914595331820025, 2.3081093615894934, 0.1], [5.947615445194278, 1.4079844477307006, 0.1], [-0.4803224555161319, 1.4515961810635953, 0.1], [3.514429016548296, 1.4426335943489825, 0.1], [-0.4162422109601163, 0.6334875266278956, 0.1]],\n",
    "[[5.824527765960428, -0.8891246487869273, 0.1], [5.755979990116006, -1.0162295385152833, 0.1], [6.220323607080054, 1.0951876797429556, 0.1], [6.262213815024397, 0.5463307607762311, 0.1], [5.904347817399456, 2.3041103755828107, 0.1], [5.921341670677911, 1.4017646330430988, 0.1], [-0.5082336039904336, 1.4780621986702984, 0.1], [3.5014775487346306, 1.437317162440372, 0.1], [-0.4373789967429058, 0.6409958258293346, 0.1]],\n",
    "[[5.7669114143468825, -0.9146892190300124, 0.1], [5.7253774024885935, -1.0452060070681881, 0.1], [6.200626592449492, 1.091719704583825, 0.1], [6.207422107889305, 0.5415505990111499, 0.1], [5.88571625567845, 2.2968396022472404, 0.1], [5.888255730015725, 1.393932168029151, 0.1], [-0.4585841190298215, 0.6395855692101712, 0.1]],\n",
    "[[5.784689309093367, -0.917508969064876, 0.1], [5.7116050774333775, -1.0426917768494517, 0.1], [6.170096055407266, 1.0863443141481048, 0.1], [6.178531563646985, 0.5390301176795674, 0.1], [5.867084693957444, 2.28956882891167, 0.1], [-0.5577013981680142, 1.4804368290457726, 0.1], [3.4570732094172816, 1.4190896804418895, 0.1], [-0.4756433956204667, 0.6395095314152466, 0.1]],\n",
    "[[5.7141302500192985, -0.9404258223111466, 0.1], [5.673997106201751, -1.0699695215788332, 0.1], [6.119868503734478, 1.077500948553254, 0.1], [6.201496718037212, 0.5047018676572174, 0.1], [5.846590109327778, 2.2815710302472154, 0.1], [-0.5672236458442805, 1.4295809400476, 0.1], [-0.4971621508087836, 0.6369410029718192, 0.1]],\n",
    "[[5.718076867690051, -0.941075352686894, 0.1], [5.657291812134021, -1.0668193339479748, 0.1], [6.1437782518135835, 1.0449005535504927, 0.1], [6.150665136122616, 0.5005649962704037, 0.1], [5.83634259490721, 2.2775720442405327, 0.1], [5.850466758189862, 1.3490948654015382, 0.1], [-0.6050744655951719, 1.4746935998226824, 0.1], [3.4311704943493386, 1.4084569071618176, 0.1], [-0.5207739116167399, 0.6514219969293263, 0.1]],\n",
    "[[5.658288861159763, -0.9650751318951888, 0.1], [5.620560947999339, -1.0937889048549667, 0.1], [6.119132065426861, 1.0407088635605757, 0.1], [6.11179361889827, 0.4974014813587959, 0.1], [5.819574056094863, 2.2710282962338466, 0.1], [5.81051531208676, 1.3398822174145018, 0.1], [-0.6315582067942402, 1.4896504053588302, 0.1], [3.4098933507632876, 1.3997228789642098, 0.1], [-0.5422136560815669, 0.6467924096532517, 0.1]],\n",
    "[[5.658288861159763, -0.9650751318951888, 0.1], [5.6170442768020346, -1.1270561838066209, 0.1], [6.092514334557009, 1.0361818639554132, 0.1], [5.79325245747983, 2.299677898173386, 0.1], [5.785180158042149, 1.334040029491992, 0.1], [-0.5645651043073806, 0.6500671873744585, 0.1]],\n",
    "[[5.701662648779618, -0.9724729450565773, 0.1], [5.576845605083374, -1.1189903471657314, 0.1], [6.061953044633996, 1.030984165169923, 0.1], [6.094640492844842, 0.46033352250410353, 0.1], [5.77745164943374, 2.2934056410425994, 0.1], [5.760819361515631, 1.3284225246211183, 0.1], [-0.6758636469401391, 1.473380296360255, 0.1], [3.38676615503199, 1.3902294251633351, 0.1], [-0.5803021023923257, 0.6681875175272545, 0.1]],\n",
    "[[5.601371061041989, -0.9889330293347389, 0.1], [5.5770969615884765, -1.1528297516388544, 0.1], [6.05874249292935, 0.45762211519938206, 0.1], [5.766298633208005, 2.288978362048539, 0.1], [-0.6993716884084876, 1.4789778102287858, 0.1], [3.3710396090004546, 1.3837738548498248, 0.1], [-0.5974011198126138, 1.2262169978377668, 0.1]],\n",
    "[[5.648639874469286, -0.9972784309062999, 0.1], [5.528132388444691, -1.1427083897394237, 0.1], [6.040217521360412, 0.9911694324456254, 0.1], [5.746779857622964, 2.2812302279663843, 0.1], [5.754789519167015, 1.2918221336430877, 0.1], [-0.7178448762840229, 1.4734381304580075, 0.1], [3.346987166637146, 1.3739005977101681, 0.1]],\n",
    "[[5.573881357796572, -1.0175493890275424, 0.1], [5.505741636220826, -1.1715170248578066, 0.1], [5.983969628833443, 0.981939435096182, 0.1], [6.024391838608589, 0.41979774750575316, 0.1], [5.735731806244599, 2.2383097295493237, 0.1], [-0.7371804543308921, 1.4694560739779352, 0.1], [3.32385975034646, 1.3644070533721449, 0.1]],\n",
    "[[5.535439364616957, -1.0438411049265786, 0.1], [5.484223531964835, -1.1669383818439905, 0.1], [6.00340859658355, 0.9492997720177826, 0.1], [6.046691283451256, 0.38602005887457036, 0.1], [5.720826734552382, 2.2324931802204313, 0.1], [5.721174043371085, 1.2493632476928571, 0.1], [-0.6727075502705525, 1.2845095134298423, 0.1]],\n",
    "[[5.495899685839243, -1.0695292078821113, 0.1], [5.451943694157588, -1.1932621747065437, 0.1], [5.9708454686416355, 0.3811780709962858, 0.1], [5.749865235036369, 1.2206296852115885, 0.1], [-0.7840522490092027, 1.4971179860748338, 0.1], [3.3067037824438965, 1.334941079878397, 0.1], [-0.6724314076303151, 1.2484231219529307, 0.1]],\n",
    "[[5.467034314340429, -1.096956784995898, 0.1], [5.458152856585422, -1.2613381957351009, 0.1], [5.964341758704032, 0.9075913435243834, 0.1], [5.958985363800362, 0.34562767114392445, 0.1], [5.697303213247677, 2.185210054594478, 0.1], [5.674543626476104, 1.2046397815202257, 0.1], [-0.7900357760408743, 1.4667651135678297, 0.1], [3.277957774326267, 1.3233361011311382, 0.1]],\n",
    "[[5.4876238436949505, -1.1010880603138653, 0.1], [5.398719332437941, -1.247603553982825, 0.1], [5.958636026768165, 0.8712889692439167, 0.1], [5.687966665026172, 2.181629006107994, 0.1], [-0.8196450391213421, 1.50076052063826, 0.1], [3.335052879646158, 1.3014697271839537, 0.1], [-0.7073313701338202, 1.2600426518222103, 0.1]],\n",
    "[[5.432161227367376, -1.1228703968640512, 0.1], [5.380667384171615, -1.2764485188961516, 0.1], [5.928951483146585, 0.866948409542278, 0.1], [5.923945169864798, 0.3090299746843825, 0.1], [5.674894785176303, 2.176615265007825, 0.1], [5.656970749000308, 1.1665606361361134, 0.1], [-0.7542146354854163, 1.3254378802834466, 0.1]],\n",
    "[[5.392281989857803, -1.147374971682957, 0.1], [5.3653780592751845, -1.3058352636029218, 0.1], [5.658088909335124, 2.170169343579768, 0.1], [-0.8595573646642984, 1.5105645499300349, 0.1], [3.2567875480439534, 1.2928078654008925, 0.1], [-0.7382958548949359, 1.263047268970138, 0.1]],\n",
    "[[5.41771222230807, -1.1527860411137463, 0.1], [5.3216543344768805, -1.295193705623798, 0.1], [5.900224120228929, 0.8277206732669927, 0.1], [5.880690763714209, 0.27248142997240454, 0.1], [5.653420412618195, 2.16837873395556, 0.1], [5.628361021539632, 1.1265678220775321, 0.1], [-0.7848744285034838, 1.3249801436826412, 0.1]],\n",
    "[[5.371839635731652, -1.175729869106509, 0.1], [5.297535607058861, -1.3220124464272085, 0.1], [5.888090939862159, 0.7911204512509774, 0.1], [5.882176329080674, 0.23826796200163397, 0.1], [5.659361192588638, 1.0985717319925805, 0.1], [-0.8939413819965496, 1.5091007398725436, 0.1], [3.2344423130892825, 1.2622074991671999, 0.1], [-0.7638618629208204, 1.255951885419664, 0.1]],\n",
    "[[5.343445969481043, -1.202130093617522, 0.1], [5.26650425634783, -1.346860308995953, 0.1], [5.827633851257078, 0.7829974722231277, 0.1], [5.6266374070180545, 2.1206429124243646, 0.1], [5.577881923330849, 1.0827553140429291, 0.1], [-0.9145419876192886, 1.5235951563012196, 0.1], [3.206494970507773, 1.251301339163844, 0.1], [-0.7942372040043923, 1.2889466396738711, 0.1]],\n",
    "[[5.304209965959061, -1.2257631480933655, 0.1], [5.241167622443757, -1.3729123609825806, 0.1], [5.841017029695806, 0.7502306019616497, 0.1], [5.814504536074264, 0.201654863965006, 0.1], [5.6172797390759115, 2.117116068456496, 0.1], [5.592931301770818, 1.0519532819271908, 0.1], [-0.8292578024692024, 1.3284155308550587, 0.1]],\n",
    "[[5.267799692117055, -1.249673067438572, 0.1], [5.212809291597419, -1.3979383626808375, 0.1], [5.832378901099601, 0.7146587339580516, 0.1], [5.812580201698079, 0.16774106325362784, 0.1], [5.520500318213501, 1.1049785179854803, 0.1], [-0.9536994260369684, 1.5277626879635124, 0.1], [3.1838419687256074, 1.2211678441339469, 0.1], [-0.8220029480429009, 1.28331106971597, 0.1]]]"
   ]
  },
  {
   "cell_type": "code",
   "execution_count": 9,
   "metadata": {},
   "outputs": [],
   "source": [
    "i = 0\n",
    "start_point = [0,0,0]\n",
    "start_points = [start_point]"
   ]
  },
  {
   "cell_type": "code",
   "execution_count": 10,
   "metadata": {
    "scrolled": true
   },
   "outputs": [
    {
     "data": {
      "image/png": "[encoded data removed]",
      "text/plain": [
       "<Figure size 432x288 with 1 Axes>"
      ]
     },
     "metadata": {
      "needs_background": "light"
     },
     "output_type": "display_data"
    },
    {
     "name": "stdout",
     "output_type": "stream",
     "text": [
      "Smallest difference: 0.007662805798223538\n",
      "triangle A (0, 4, 10) matches triangle B (0, 4, 6)\n",
      "it took 0.151015043258667 seconds\n"
     ]
    },
    {
     "data": {
      "image/png": "[encoded data removed]",
      "text/plain": [
       "<Figure size 432x288 with 1 Axes>"
      ]
     },
     "metadata": {
      "needs_background": "light"
     },
     "output_type": "display_data"
    }
   ],
   "source": [
    "if i + 1 < len(corners):\n",
    "    t0 = time.time()\n",
    "    \n",
    "    set_A = [[x[0], x[1]] for x in corners[i]]\n",
    "    i += 1\n",
    "    set_B = [[x[0], x[1]] for x in corners[i]]\n",
    "    plt.scatter([row[0] for row in set_A], [row[1] for row in set_A], s=10, c='k')\n",
    "    plt.scatter([row[0] for row in set_B], [row[1] for row in set_B], s=10, c='r')\n",
    "    plt.show()\n",
    "    plt.close()\n",
    "\n",
    "    # All possible triangles.\n",
    "    A_combs = list(itertools.combinations(range(len(set_A)), 3))\n",
    "    B_combs = list(itertools.combinations(range(len(set_B)), 3))\n",
    "\n",
    "    # Obtain normalized triangles.\n",
    "    A_triang, B_triang = getTriangles(set_A, A_combs), getTriangles(set_B, B_combs)\n",
    "\n",
    "    # Index of the A and B triangles with the smallest difference.\n",
    "    A_idx, B_idx = sumTriangles(A_triang, B_triang)\n",
    "\n",
    "    # Indexes of points in A and B of the best match triangles.\n",
    "    A_idx_pts, B_idx_pts = A_combs[A_idx], B_combs[B_idx]\n",
    "    print('triangle A %s matches triangle B %s' % (A_idx_pts, B_idx_pts))\n",
    "\n",
    "    # Matched points in A and B.\n",
    "#     print \"A:\", [set_A[_] for _ in A_idx_pts]\n",
    "#     print \"B:\", [set_B[_] for _ in B_idx_pts]\n",
    "    a = [corners[i-1][_] for _ in A_idx_pts]\n",
    "    b = [corners[i][_] for _ in B_idx_pts]\n",
    "    x = np.linalg.solve(a, b)\n",
    "    \n",
    "    t = np.matmul(corners[i-1], x)\n",
    "\n",
    "#     new_set = []\n",
    "#     for original,predicted in product(corners[i],t):\n",
    "#         dist = distance.euclidean(original,predicted)\n",
    "#         if dist < 1:\n",
    "#             new_set.append(original)\n",
    "    new_set = []\n",
    "    for original in corners[i]:\n",
    "        min_dist = 1\n",
    "        partner_index = None\n",
    "        for iterator, predicted in enumerate(t):\n",
    "            dist = distance.euclidean(original,predicted)\n",
    "            if dist < min_dist:\n",
    "                min_dist = dist\n",
    "                partner_index = iterator\n",
    "        if min_dist < 1:\n",
    "            new_set.append(original)\n",
    "            t = np.delete(t, partner_index, 0)\n",
    "                     \n",
    "    t1 = time.time()\n",
    "\n",
    "    print('it took', t1-t0, 'seconds')\n",
    "    # Plot\n",
    "    A_pts = zip(*[[pt[0], pt[1]] for pt in set_A])\n",
    "    B_pts = zip(*[[pt[0], pt[1]] for pt in set_B])\n",
    "    N_pts = zip(*[[pt[0], pt[1]] for pt in new_set])\n",
    "    \n",
    "    plt.scatter(*A_pts, s=20, c='k')\n",
    "    plt.scatter(*B_pts, s=20, c='r')\n",
    "    plt.scatter(*N_pts, s=20, c='b')\n",
    "    \n",
    "    plt.show()"
   ]
  },
  {
   "cell_type": "markdown",
   "metadata": {},
   "source": [
    "In theory this kind of works. The main Problem I have been facing with this is, the resulting Matrix does not seem to yield the information on Rotation or Translation, which would be useful information, to determine odometry values."
   ]
  },
  {
   "cell_type": "markdown",
   "metadata": {},
   "source": [
    "One Idea that I had was to attempt to get the Transformation Matrix via some extra Steps, this however is also proving to be a challenge"
   ]
  },
  {
   "cell_type": "code",
   "execution_count": 126,
   "metadata": {},
   "outputs": [],
   "source": [
    "def translation_matrix(vector):\n",
    "    translation = np.identity(4)\n",
    "    translation[0,3] = vector[0]\n",
    "    translation[1,3] = vector[1]\n",
    "    return translation"
   ]
  },
  {
   "cell_type": "code",
   "execution_count": 140,
   "metadata": {},
   "outputs": [
    {
     "name": "stdout",
     "output_type": "stream",
     "text": [
      "I think this should be the translation vector\n",
      "[[ 0.02565013]\n",
      " [-0.00037507]]\n",
      "I think this should be the rotation angle\n",
      "1.55617482041056\n",
      "And this the rotation matrix\n",
      "[[ 0.01462099 -0.99989311  0.          0.        ]\n",
      " [ 0.99989311  0.01462099  0.          0.        ]\n",
      " [ 0.          0.          1.          0.        ]\n",
      " [ 0.          0.          0.          1.        ]]\n",
      "__________________________\n",
      "[[ 8.38783662 -5.19710878  0.1       ]\n",
      " [ 6.39336379  1.24733557  0.1       ]\n",
      " [ 6.86317401 -5.4030121   0.1       ]]\n",
      "But somewhere down the line mistakes are being made, so I am not coming to the right conclusion\n"
     ]
    }
   ],
   "source": [
    "affine_a = np.ones((3,4))\n",
    "affine_a[:,:-1] = np.array(a)\n",
    "affine_b = np.ones((3,4))\n",
    "affine_b[:,:-1] = np.array(b)\n",
    "a_tmp = affine_a[0].reshape(4,1)\n",
    "\n",
    "translation_pt_to_pt = translation_matrix(affine_a[0]-affine_b[0])\n",
    "result = np.matmul(translation_pt_to_pt, a_tmp)[:3].reshape(1,3)\n",
    "print(\"I think this should be the translation vector\")\n",
    "print(translation_pt_to_pt[:2,3:4])\n",
    "radians = -math.atan2(*(b[0] - result)[0,:2])\n",
    "print(\"I think this should be the rotation angle\")\n",
    "print(radians)\n",
    "rotation = np.identity(4)#R.from_euler('zyx', [radians, 0, 0]).as_matrix()\n",
    "rotation[:-1,:-1] = R.from_euler('zyx', [radians, 0, 0]).as_matrix()\n",
    "print(\"And this the rotation matrix\")\n",
    "print(rotation)\n",
    "\n",
    "translation_to_zero = translation_matrix(-affine_b[1][:2])\n",
    "translation_from_zero = translation_matrix(affine_b[1][:2])\n",
    "\n",
    "final_answer = np.matmul(translation_from_zero, \n",
    "                         np.matmul(rotation, np.matmul(translation_to_zero, \n",
    "                                                       np.matmul(translation_pt_to_pt, affine_a.transpose()))))\n",
    "print(\"__________________________\")\n",
    "print(final_answer[:3,:].transpose())\n",
    "\n",
    "print(\"But somewhere down the line mistakes are being made, so I am not coming to the right conclusion\")"
   ]
  },
  {
   "cell_type": "markdown",
   "metadata": {},
   "source": [
    "# <span style=\"color:red\">hd</span>\n",
    "$R = \n",
    "\\begin{bmatrix}\n",
    "\\cos(\\theta) & -\\sin(\\theta)  \\\\\n",
    "\\sin(\\theta) & \\cos(\\theta) \n",
    "\\end{bmatrix}$"
   ]
  },
  {
   "cell_type": "code",
   "execution_count": 15,
   "metadata": {},
   "outputs": [
    {
     "data": {
      "text/plain": [
       "array([[ 0.01462099, -0.99989311],\n",
       "       [ 0.99989311,  0.01462099]])"
      ]
     },
     "execution_count": 15,
     "metadata": {},
     "output_type": "execute_result"
    }
   ],
   "source": [
    "\n"
   ]
  },
  {
   "cell_type": "code",
   "execution_count": null,
   "metadata": {},
   "outputs": [],
   "source": []
  }
 ],
 "metadata": {
  "kernelspec": {
   "display_name": "Python 3",
   "language": "python",
   "name": "python3"
  },
  "language_info": {
   "codemirror_mode": {
    "name": "ipython",
    "version": 3
   },
   "file_extension": ".py",
   "mimetype": "text/x-python",
   "name": "python",
   "nbconvert_exporter": "python",
   "pygments_lexer": "ipython3",
   "version": "3.7.6"
  }
 },
 "nbformat": 4,
 "nbformat_minor": 4
}

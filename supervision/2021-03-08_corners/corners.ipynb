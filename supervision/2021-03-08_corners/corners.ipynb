{
 "cells": [
  {
   "cell_type": "markdown",
   "metadata": {},
   "source": [
    "### create video for corners"
   ]
  },
  {
   "cell_type": "code",
   "execution_count": 1,
   "metadata": {},
   "outputs": [
    {
     "name": "stdout",
     "output_type": "stream",
     "text": [
      "[INFO]  Data folder corners_2021-03-04-13-51-15 already exists. Not creating.\n"
     ]
    },
    {
     "data": {
      "text/html": [
       "<div>\n",
       "<style scoped>\n",
       "    .dataframe tbody tr th:only-of-type {\n",
       "        vertical-align: middle;\n",
       "    }\n",
       "\n",
       "    .dataframe tbody tr th {\n",
       "        vertical-align: top;\n",
       "    }\n",
       "\n",
       "    .dataframe thead th {\n",
       "        text-align: right;\n",
       "    }\n",
       "</style>\n",
       "<table border=\"1\" class=\"dataframe\">\n",
       "  <thead>\n",
       "    <tr style=\"text-align: right;\">\n",
       "      <th></th>\n",
       "      <th>Topics</th>\n",
       "      <th>Types</th>\n",
       "      <th>Message Count</th>\n",
       "      <th>Frequency</th>\n",
       "    </tr>\n",
       "  </thead>\n",
       "  <tbody>\n",
       "    <tr>\n",
       "      <th>0</th>\n",
       "      <td>/corner_list</td>\n",
       "      <td>doors_and_corners/CornerList</td>\n",
       "      <td>4920</td>\n",
       "      <td>4.499863</td>\n",
       "    </tr>\n",
       "    <tr>\n",
       "      <th>1</th>\n",
       "      <td>/visualization_marker</td>\n",
       "      <td>visualization_msgs/Marker</td>\n",
       "      <td>143700</td>\n",
       "      <td>104857.600000</td>\n",
       "    </tr>\n",
       "  </tbody>\n",
       "</table>\n",
       "</div>"
      ],
      "text/plain": [
       "                  Topics                         Types  Message Count  \\\n",
       "0           /corner_list  doors_and_corners/CornerList           4920   \n",
       "1  /visualization_marker     visualization_msgs/Marker         143700   \n",
       "\n",
       "       Frequency  \n",
       "0       4.499863  \n",
       "1  104857.600000  "
      ]
     },
     "execution_count": 1,
     "metadata": {},
     "output_type": "execute_result"
    }
   ],
   "source": [
    "import rosbag\n",
    "import ros_numpy\n",
    "import numpy as np\n",
    "import matplotlib.pyplot as plt\n",
    "import rospy\n",
    "import pandas as pd\n",
    "import math\n",
    "import bagpy\n",
    "\n",
    "from bagpy import bagreader\n",
    "bagfile = 'corners_2021-03-04-13-51-15.bag'\n",
    "b = bagreader(bagfile)\n",
    "b.topic_table"
   ]
  },
  {
   "cell_type": "code",
   "execution_count": 2,
   "metadata": {},
   "outputs": [],
   "source": [
    "bag = rosbag.Bag('corners_2021-03-04-13-51-15.bag')\n",
    "counter = 1\n",
    "\n",
    "# get all corners\n",
    "for topic, msg, t in bag.read_messages(topics=['/corner_list']):\n",
    "    corner_list = msg.corner_list\n",
    "    points_x = np.array([])\n",
    "    points_y = np.array([])\n",
    "    for corner in corner_list:\n",
    "        point = corner.first_wall.wall_end\n",
    "        points_x = np.append(points_x, point.x)\n",
    "        points_y = np.append(points_y, point.y)\n",
    "    plt.figure(figsize=(11.69,8.27))\n",
    "    plt.axis('equal')\n",
    "    plt.plot(points_x, points_y, 'bo') \n",
    "    plt.legend([\"first-wall-end-point\"])\n",
    "    plt.xlabel('Pos. x in $m$')\n",
    "    plt.ylabel('Pos. y in $m$')\n",
    "    filename = f\"img/points{counter:04d}.png\"\n",
    "    plt.savefig(filename)\n",
    "    # for testing: do not go through all\n",
    "    #if counter > 5:\n",
    "    #    break\n",
    "    counter = counter+1\n",
    "    #plt.show() # <-- too many (4920 messages)\n",
    "    plt.close()"
   ]
  },
  {
   "cell_type": "code",
   "execution_count": 3,
   "metadata": {},
   "outputs": [
    {
     "data": {
      "text/plain": [
       "0"
      ]
     },
     "execution_count": 3,
     "metadata": {},
     "output_type": "execute_result"
    }
   ],
   "source": [
    "import os\n",
    "# create a HTML file for easy access (without jupyter)\n",
    "os.system('jupyter nbconvert --to html corners.ipynb') \n",
    "#os.system('mv corners.html HTML') # move to HTML folder"
   ]
  },
  {
   "cell_type": "markdown",
   "metadata": {},
   "source": [
    "Now run /video/create_video.py to create a video from the plots\n",
    "\n",
    "cd ../video\n",
    "\n",
    "python3 create_video.py"
   ]
  },
  {
   "cell_type": "code",
   "execution_count": 4,
   "metadata": {},
   "outputs": [],
   "source": [
    "### questions\n",
    "# is this the right point for a corner?\n",
    "# how about using the other points (additionally)?"
   ]
  },
  {
   "cell_type": "code",
   "execution_count": null,
   "metadata": {},
   "outputs": [],
   "source": []
  },
  {
   "cell_type": "raw",
   "metadata": {},
   "source": []
  }
 ],
 "metadata": {
  "kernelspec": {
   "display_name": "Python 3",
   "language": "python",
   "name": "python3"
  },
  "language_info": {
   "codemirror_mode": {
    "name": "ipython",
    "version": 3
   },
   "file_extension": ".py",
   "mimetype": "text/x-python",
   "name": "python",
   "nbconvert_exporter": "python",
   "pygments_lexer": "ipython3",
   "version": "3.8.5"
  }
 },
 "nbformat": 4,
 "nbformat_minor": 4
}
